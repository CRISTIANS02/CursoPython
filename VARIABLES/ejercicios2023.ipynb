{
 "cells": [
  {
   "cell_type": "code",
   "execution_count": 6,
   "metadata": {},
   "outputs": [
    {
     "name": "stdout",
     "output_type": "stream",
     "text": [
      "www.escuelawow.com\n",
      "Cristian del mar\n",
      "www.escuelawow.comCristian del mar\n",
      "www.escuelawow.comCristian del mar\n",
      "4.6\n",
      "True\n",
      "False\n"
     ]
    }
   ],
   "source": [
    "#Datos de tipo String\n",
    "\n",
    "# Genera la variable de tipo String\n",
    "website =\"www.escuelawow.com\"\n",
    "\n",
    "# Imprime en consola el contenido de la variable website\n",
    "print(website)\n",
    "\n",
    "# En Python también se puede utilizar las comillas simples\n",
    "nombre = 'Cristian del mar'\n",
    "print(nombre)\n",
    "\n",
    "#Concatenar Strings:\n",
    "print(website +  nombre)\n",
    "#imprime en consola Python “www.escuelawow.com cristian del mar”\n",
    "\n",
    "print(website +  nombre)\n",
    "#imprime en consola Python “www.escuelawow.com cristian del mar”\n",
    "\n",
    "\n",
    "# Datos de tipo float\n",
    "\n",
    "mi_numero = 4.6\n",
    "print(mi_numero)\n",
    "\n",
    "#Datos de tipo Boolean\n",
    "es_cantante = True\n",
    "print(es_cantante)\n",
    "\n",
    "toca_instrumento = False\n",
    "print(toca_instrumento)"
   ]
  }
 ],
 "metadata": {
  "kernelspec": {
   "display_name": "Python 3",
   "language": "python",
   "name": "python3"
  },
  "language_info": {
   "codemirror_mode": {
    "name": "ipython",
    "version": 3
   },
   "file_extension": ".py",
   "mimetype": "text/x-python",
   "name": "python",
   "nbconvert_exporter": "python",
   "pygments_lexer": "ipython3",
   "version": "3.10.11"
  },
  "orig_nbformat": 4
 },
 "nbformat": 4,
 "nbformat_minor": 2
}
